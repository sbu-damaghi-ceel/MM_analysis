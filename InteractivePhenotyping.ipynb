{
 "cells": [
  {
   "cell_type": "code",
   "execution_count": null,
   "metadata": {
    "vscode": {
     "languageId": "plaintext"
    }
   },
   "outputs": [],
   "source": [
    "from MM_analysis.util_pheno import phenoAdata\n",
    "adata_sub = adata[:,hypoxia_channels].copy()\n",
    "df,df_mean = phenoAdata(adata_sub,show=True,output_mean=True)\n",
    "\n",
    "adata_sub.obs['phenotype'] = df['metacluster'].astype('category').values\n",
    "\n",
    "sc.pl.spatial(adata_sub,color='phenotype',spot_size=10)"
   ]
  },
  {
   "cell_type": "code",
   "execution_count": null,
   "metadata": {
    "vscode": {
     "languageId": "plaintext"
    }
   },
   "outputs": [],
   "source": [
    "from MM_analysis.metacluster_remap_gui import (MetaClusterGui,\n",
    "                                             colormap_helper,\n",
    "                                             MetaClusterData)\n",
    "from matplotlib import rc_file_defaults\n",
    "\n",
    "%matplotlib widget\n",
    "rc_file_defaults()\n",
    "plt.ion()\n",
    "\n",
    "cluster_data = df_mean\n",
    "cluster_type='pixel'\n",
    "som_counts = cluster_data[['cluster', 'count']].copy()\n",
    "som_expression = cluster_data.drop(columns='count')\n",
    "pixel_mcd =  MetaClusterData(cluster_type, som_expression, som_counts)\n",
    "\n",
    "pixel_mcd.output_mapping_filename = './temp_pixel_mapping.csv'\n",
    "pixel_mcg = MetaClusterGui(pixel_mcd, width=17)\n",
    "\n",
    "## revert back to inline\n",
    "%matplotlib inline\n"
   ]
  }
 ],
 "metadata": {
  "language_info": {
   "name": "python"
  }
 },
 "nbformat": 4,
 "nbformat_minor": 2
}
